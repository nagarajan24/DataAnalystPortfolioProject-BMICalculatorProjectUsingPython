{
 "cells": [
  {
   "cell_type": "code",
   "execution_count": 8,
   "id": "056e34e8",
   "metadata": {},
   "outputs": [
    {
     "name": "stdout",
     "output_type": "stream",
     "text": [
      "Enter your name: Ram\n",
      "Enter your weight in Kg: 75\n",
      "Enter your height in meter: 1.6\n",
      "Ram,you are overweight\n"
     ]
    }
   ],
   "source": [
    "#BMI Calculator\n",
    "\n",
    "name = input(\"Enter your name: \")\n",
    "weight = int(input(\"Enter your weight in Kg: \"))\n",
    "height = float(input(\"Enter your height in meter: \"))\n",
    "\n",
    "BMI = weight/(height*height)\n",
    "\n",
    "if BMI>0:\n",
    "    if BMI<18.5:\n",
    "        print(name+\", you are underweight\")\n",
    "    elif BMI<=24.5:\n",
    "        print(name+\", you are normal weight\")\n",
    "    elif BMI<=29.9:\n",
    "        print(name+\", you are overweight\")\n",
    "    else:\n",
    "        print(name+\", you are obese\")\n",
    "else:\n",
    "    print(\"Enter valid inputs\")"
   ]
  },
  {
   "cell_type": "code",
   "execution_count": null,
   "id": "fa7680aa",
   "metadata": {},
   "outputs": [],
   "source": []
  }
 ],
 "metadata": {
  "kernelspec": {
   "display_name": "Python 3 (ipykernel)",
   "language": "python",
   "name": "python3"
  },
  "language_info": {
   "codemirror_mode": {
    "name": "ipython",
    "version": 3
   },
   "file_extension": ".py",
   "mimetype": "text/x-python",
   "name": "python",
   "nbconvert_exporter": "python",
   "pygments_lexer": "ipython3",
   "version": "3.9.7"
  }
 },
 "nbformat": 4,
 "nbformat_minor": 5
}
